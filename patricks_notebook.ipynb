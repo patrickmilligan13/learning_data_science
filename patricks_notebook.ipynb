__Patrick M.__ <br>
i want to be in data science

_i am intrested in data science because i see so much potential for growth in the future._ <br>
_i love the idea of being able to take large amounts of data, clean it, run it through a deep learning machine, and get an answer_

### my code is going to play hangman with the user based off a library of a few words.

from time import sleep
import random
import string, os


def play_hangman():
    word_list = ['computer', 'casino', 'headphones', 'rocket', 'table']
    word = random.choice(word_list)
    word_letters = set(word)
    alpahbet = set("abcdefghijklmnopqrstuvwxyz")
    used_letters = set()
    tries = (8)
    scrabble = set()
    
    print("hangman!")
    while len(word_letters) > 0 and tries > 0:
        
        print("you have ", tries, " tries left", "\n")
        unused_leters = alpahbet - used_letters
        print("Available letters: ", " ".join(sorted(unused_leters)))
        
        guess = input("Please guess a letter: ").lower()
        sleep(1)
        if guess in used_letters:
            
            sleep(1)
            print("you already guessed that letter", guess, "\n")
            print("these are your correct guesses: ", scrabble)
        elif guess in word_letters:
            print(scrabble.add(guess))
            
            sleep(1)
            print("Yes! " , guess , " is in the word!")
            scrabble.add(guess)
            used_letters.add(guess)
            word_letters.discard(guess)
            print("these are your correct guesses: ", scrabble)
        else:
            sleep(1)
            
            print("Sorry ", guess, " Was not in the word.")
            used_letters.add(guess)
            tries -= 1
            print("these are your correct guesses: ", scrabble)
    if tries == 0:
        sleep(1)
        print("You loose! the word was, ", word)
    else:
        sleep(1)
        print("you guessed it, the word was: ", word)
play_hangman()

| houses | People | numbers |
| --- | --- | --- |
| 5 | 27 | 43 |
<br>
this is one of my favorite quotes
>"There was a young fellow of Crete, <br>
Who was so exceedingly neat <br>
When he got out of bed <br>
He stood on his head <br>
To make sure of not soiling his feet."

* to make a bulleted list
* all you have to do
* is ad an asterisk followed by a space
